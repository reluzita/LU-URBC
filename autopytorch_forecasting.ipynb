{
  "cells": [
    {
      "cell_type": "code",
      "execution_count": null,
      "metadata": {
        "id": "ecQ_ng1dQtln"
      },
      "outputs": [],
      "source": [
        "!pip install autoPyTorch[forecasting]"
      ]
    },
    {
      "cell_type": "code",
      "execution_count": null,
      "metadata": {
        "id": "xG-t_UB6Qtlp"
      },
      "outputs": [],
      "source": [
        "from autoPyTorch.api.time_series_forecasting import TimeSeriesForecastingTask\n",
        "import pandas as pd"
      ]
    },
    {
      "cell_type": "code",
      "execution_count": null,
      "metadata": {
        "id": "XgoabVi2Qtlp"
      },
      "outputs": [],
      "source": [
        "dataset_name = \"covid_deaths\"\n",
        "\n",
        "data = pd.read_csv(f\"{dataset_name}.csv\").set_index('date')\n",
        "target = 'T1'\n",
        "\n",
        "targets = data[[target]]"
      ]
    },
    {
      "cell_type": "code",
      "source": [
        "for forecasting_horizon in [5, 10]:\n",
        "  y_train = [targets[: -forecasting_horizon]]\n",
        "  y_test = [targets[-forecasting_horizon:]]\n",
        "\n",
        "  api = TimeSeriesForecastingTask(seed=0, n_jobs=8, ensemble_size=10, ensemble_nbest=10)\n",
        "\n",
        "  api.search(\n",
        "    y_train=y_train,\n",
        "    optimize_metric='mean_MASE_forecasting',\n",
        "    n_prediction_steps=forecasting_horizon,\n",
        "    func_eval_time_limit_secs=500,\n",
        "    total_walltime_limit=1000\n",
        "  )\n",
        "\n",
        "  test_sets = api.dataset.generate_test_seqs()\n",
        "  y_pred = api.predict(test_sets)\n",
        "\n",
        "  filepath = f\"{dataset_name}_{target}_{forecasting_horizon}.csv\"\n",
        "  predictions_df = pd.read_csv(filepath, index_col=0)\n",
        "  predictions_df.loc['autoPyTorch'] = y_pred[0]\n",
        "  predictions_df.to_csv(filepath)"
      ],
      "metadata": {
        "id": "jWtgymqTQBYp"
      },
      "execution_count": null,
      "outputs": []
    }
  ],
  "metadata": {
    "colab": {
      "provenance": []
    },
    "kernelspec": {
      "display_name": "Python 3",
      "language": "python",
      "name": "python3"
    },
    "language_info": {
      "name": "python",
      "version": "3.9.13 (main, Aug 25 2022, 23:29:09) \n[GCC 11.2.0]"
    },
    "orig_nbformat": 4,
    "vscode": {
      "interpreter": {
        "hash": "d4d1e4263499bec80672ea0156c357c1ee493ec2b1c70f0acce89fc37c4a6abe"
      }
    }
  },
  "nbformat": 4,
  "nbformat_minor": 0
}