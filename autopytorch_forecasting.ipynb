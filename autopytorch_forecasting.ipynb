{
  "cells": [
    {
      "cell_type": "code",
      "execution_count": null,
      "metadata": {
        "id": "ecQ_ng1dQtln"
      },
      "outputs": [],
      "source": [
        "!pip install autoPyTorch[forecasting]"
      ]
    },
    {
      "cell_type": "code",
      "execution_count": 59,
      "metadata": {
        "id": "xG-t_UB6Qtlp"
      },
      "outputs": [],
      "source": [
        "from autoPyTorch.api.time_series_forecasting import TimeSeriesForecastingTask\n",
        "import pandas as pd"
      ]
    },
    {
      "cell_type": "code",
      "execution_count": 53,
      "metadata": {
        "id": "XgoabVi2Qtlp"
      },
      "outputs": [],
      "source": [
        "data = pd.read_csv('covid_deaths_dataset.csv').set_index('date')\n",
        "\n",
        "targets = data[['T1']]\n",
        "#features = data[[col for col in data.columns if col != 'T266']]"
      ]
    },
    {
      "cell_type": "code",
      "execution_count": 54,
      "metadata": {
        "id": "PEcrobJZQtlq"
      },
      "outputs": [],
      "source": [
        "forecasting_horizon = 5\n",
        "\n",
        "y_train = [targets[: -forecasting_horizon]]\n",
        "y_test = [targets[-forecasting_horizon:]]\n",
        "\n",
        "#X_train = [features[: -forecasting_horizon]]\n",
        "#known_future_features = list(features.columns)\n",
        "#X_test = [features[-forecasting_horizon:]]"
      ]
    },
    {
      "cell_type": "code",
      "execution_count": 55,
      "metadata": {
        "id": "CIgsLwp4Qtlq",
        "outputId": "556c7c81-8c1a-4f18-bdd0-72698f0ea68b",
        "colab": {
          "base_uri": "https://localhost:8080/"
        }
      },
      "outputs": [
        {
          "output_type": "execute_result",
          "data": {
            "text/plain": [
              "<autoPyTorch.api.time_series_forecasting.TimeSeriesForecastingTask at 0x7f3e812add00>"
            ]
          },
          "metadata": {},
          "execution_count": 55
        }
      ],
      "source": [
        "api = TimeSeriesForecastingTask(seed=0, n_jobs=5, \n",
        "    #output_directory='model', delete_output_folder_after_terminate=False, \n",
        "    ensemble_size=10, ensemble_nbest=10)\n",
        "\n",
        "api.search(\n",
        "    y_train=y_train,\n",
        "    optimize_metric='mean_MAPE_forecasting',\n",
        "    n_prediction_steps=forecasting_horizon,\n",
        "    #memory_limit=16 * 1024,  # Currently, forecasting models use much more memories\n",
        "    func_eval_time_limit_secs=500,\n",
        "    total_walltime_limit=1000\n",
        "    #min_num_test_instances=1000,  # proxy validation sets. This only works for the tasks with more than 1000 series\n",
        "    #known_future_features=known_future_features,\n",
        ")"
      ]
    },
    {
      "cell_type": "code",
      "execution_count": 56,
      "metadata": {
        "id": "WV7I_89DQtlq",
        "outputId": "746c1801-6568-4ad0-fe92-844444eb4e0d",
        "colab": {
          "base_uri": "https://localhost:8080/"
        }
      },
      "outputs": [
        {
          "output_type": "stream",
          "name": "stdout",
          "text": [
            "[              T1\n",
            "date            \n",
            "2020-08-11  1344\n",
            "2020-08-12  1354\n",
            "2020-08-13  1363\n",
            "2020-08-14  1363\n",
            "2020-08-15  1370\n",
            "2020-08-16  1375\n",
            "2020-08-17  1375\n",
            "2020-08-18  1375\n",
            "2020-08-19  1375\n",
            "2020-08-20  1385] [[1328. 1328. 1328. 1328. 1328. 1328. 1328. 1328. 1328. 1328.]]\n"
          ]
        }
      ],
      "source": [
        "test_sets = api.dataset.generate_test_seqs()\n",
        "y_pred = api.predict(test_sets)\n",
        "print(y_test, y_pred)"
      ]
    },
    {
      "cell_type": "code",
      "source": [
        "predictions_df = pd.read_csv('covid_deaths_dataset_T1.csv', index_col=0)"
      ],
      "metadata": {
        "id": "HvmQkFOxdST7"
      },
      "execution_count": 67,
      "outputs": []
    },
    {
      "cell_type": "code",
      "source": [
        "predictions_df.loc['autoPyTorch'] = y_pred[0]"
      ],
      "metadata": {
        "id": "LpfBXxSI565V",
        "outputId": "747c5a2f-51b6-47f3-84a3-dfcaf5b1ee21",
        "colab": {
          "base_uri": "https://localhost:8080/",
          "height": 238
        }
      },
      "execution_count": 68,
      "outputs": [
        {
          "output_type": "execute_result",
          "data": {
            "text/plain": [
              "                 2020-08-16   2020-08-17   2020-08-18   2020-08-19  \\\n",
              "dummy           1370.000000  1370.000000  1370.000000  1370.000000   \n",
              "autoregression  1375.007728  1381.086613  1385.975523  1394.794212   \n",
              "moving average  1342.800000  1349.600000  1355.900000  1362.200000   \n",
              "ARMA            1375.615483  1380.982707  1386.066401  1390.904488   \n",
              "TBATS           1377.138883  1384.258050  1391.377217  1398.496385   \n",
              "autoPyTorch     1328.000000  1328.000000  1328.000000  1328.000000   \n",
              "\n",
              "                 2020-08-20  \n",
              "dummy           1370.000000  \n",
              "autoregression  1402.769550  \n",
              "moving average  1367.900000  \n",
              "ARMA            1395.461852  \n",
              "TBATS           1405.615552  \n",
              "autoPyTorch     1328.000000  "
            ],
            "text/html": [
              "\n",
              "  <div id=\"df-e034a4be-e9aa-411d-980c-7f81e0f7dd10\">\n",
              "    <div class=\"colab-df-container\">\n",
              "      <div>\n",
              "<style scoped>\n",
              "    .dataframe tbody tr th:only-of-type {\n",
              "        vertical-align: middle;\n",
              "    }\n",
              "\n",
              "    .dataframe tbody tr th {\n",
              "        vertical-align: top;\n",
              "    }\n",
              "\n",
              "    .dataframe thead th {\n",
              "        text-align: right;\n",
              "    }\n",
              "</style>\n",
              "<table border=\"1\" class=\"dataframe\">\n",
              "  <thead>\n",
              "    <tr style=\"text-align: right;\">\n",
              "      <th></th>\n",
              "      <th>2020-08-16</th>\n",
              "      <th>2020-08-17</th>\n",
              "      <th>2020-08-18</th>\n",
              "      <th>2020-08-19</th>\n",
              "      <th>2020-08-20</th>\n",
              "    </tr>\n",
              "  </thead>\n",
              "  <tbody>\n",
              "    <tr>\n",
              "      <th>dummy</th>\n",
              "      <td>1370.000000</td>\n",
              "      <td>1370.000000</td>\n",
              "      <td>1370.000000</td>\n",
              "      <td>1370.000000</td>\n",
              "      <td>1370.000000</td>\n",
              "    </tr>\n",
              "    <tr>\n",
              "      <th>autoregression</th>\n",
              "      <td>1375.007728</td>\n",
              "      <td>1381.086613</td>\n",
              "      <td>1385.975523</td>\n",
              "      <td>1394.794212</td>\n",
              "      <td>1402.769550</td>\n",
              "    </tr>\n",
              "    <tr>\n",
              "      <th>moving average</th>\n",
              "      <td>1342.800000</td>\n",
              "      <td>1349.600000</td>\n",
              "      <td>1355.900000</td>\n",
              "      <td>1362.200000</td>\n",
              "      <td>1367.900000</td>\n",
              "    </tr>\n",
              "    <tr>\n",
              "      <th>ARMA</th>\n",
              "      <td>1375.615483</td>\n",
              "      <td>1380.982707</td>\n",
              "      <td>1386.066401</td>\n",
              "      <td>1390.904488</td>\n",
              "      <td>1395.461852</td>\n",
              "    </tr>\n",
              "    <tr>\n",
              "      <th>TBATS</th>\n",
              "      <td>1377.138883</td>\n",
              "      <td>1384.258050</td>\n",
              "      <td>1391.377217</td>\n",
              "      <td>1398.496385</td>\n",
              "      <td>1405.615552</td>\n",
              "    </tr>\n",
              "    <tr>\n",
              "      <th>autoPyTorch</th>\n",
              "      <td>1328.000000</td>\n",
              "      <td>1328.000000</td>\n",
              "      <td>1328.000000</td>\n",
              "      <td>1328.000000</td>\n",
              "      <td>1328.000000</td>\n",
              "    </tr>\n",
              "  </tbody>\n",
              "</table>\n",
              "</div>\n",
              "      <button class=\"colab-df-convert\" onclick=\"convertToInteractive('df-e034a4be-e9aa-411d-980c-7f81e0f7dd10')\"\n",
              "              title=\"Convert this dataframe to an interactive table.\"\n",
              "              style=\"display:none;\">\n",
              "        \n",
              "  <svg xmlns=\"http://www.w3.org/2000/svg\" height=\"24px\"viewBox=\"0 0 24 24\"\n",
              "       width=\"24px\">\n",
              "    <path d=\"M0 0h24v24H0V0z\" fill=\"none\"/>\n",
              "    <path d=\"M18.56 5.44l.94 2.06.94-2.06 2.06-.94-2.06-.94-.94-2.06-.94 2.06-2.06.94zm-11 1L8.5 8.5l.94-2.06 2.06-.94-2.06-.94L8.5 2.5l-.94 2.06-2.06.94zm10 10l.94 2.06.94-2.06 2.06-.94-2.06-.94-.94-2.06-.94 2.06-2.06.94z\"/><path d=\"M17.41 7.96l-1.37-1.37c-.4-.4-.92-.59-1.43-.59-.52 0-1.04.2-1.43.59L10.3 9.45l-7.72 7.72c-.78.78-.78 2.05 0 2.83L4 21.41c.39.39.9.59 1.41.59.51 0 1.02-.2 1.41-.59l7.78-7.78 2.81-2.81c.8-.78.8-2.07 0-2.86zM5.41 20L4 18.59l7.72-7.72 1.47 1.35L5.41 20z\"/>\n",
              "  </svg>\n",
              "      </button>\n",
              "      \n",
              "  <style>\n",
              "    .colab-df-container {\n",
              "      display:flex;\n",
              "      flex-wrap:wrap;\n",
              "      gap: 12px;\n",
              "    }\n",
              "\n",
              "    .colab-df-convert {\n",
              "      background-color: #E8F0FE;\n",
              "      border: none;\n",
              "      border-radius: 50%;\n",
              "      cursor: pointer;\n",
              "      display: none;\n",
              "      fill: #1967D2;\n",
              "      height: 32px;\n",
              "      padding: 0 0 0 0;\n",
              "      width: 32px;\n",
              "    }\n",
              "\n",
              "    .colab-df-convert:hover {\n",
              "      background-color: #E2EBFA;\n",
              "      box-shadow: 0px 1px 2px rgba(60, 64, 67, 0.3), 0px 1px 3px 1px rgba(60, 64, 67, 0.15);\n",
              "      fill: #174EA6;\n",
              "    }\n",
              "\n",
              "    [theme=dark] .colab-df-convert {\n",
              "      background-color: #3B4455;\n",
              "      fill: #D2E3FC;\n",
              "    }\n",
              "\n",
              "    [theme=dark] .colab-df-convert:hover {\n",
              "      background-color: #434B5C;\n",
              "      box-shadow: 0px 1px 3px 1px rgba(0, 0, 0, 0.15);\n",
              "      filter: drop-shadow(0px 1px 2px rgba(0, 0, 0, 0.3));\n",
              "      fill: #FFFFFF;\n",
              "    }\n",
              "  </style>\n",
              "\n",
              "      <script>\n",
              "        const buttonEl =\n",
              "          document.querySelector('#df-e034a4be-e9aa-411d-980c-7f81e0f7dd10 button.colab-df-convert');\n",
              "        buttonEl.style.display =\n",
              "          google.colab.kernel.accessAllowed ? 'block' : 'none';\n",
              "\n",
              "        async function convertToInteractive(key) {\n",
              "          const element = document.querySelector('#df-e034a4be-e9aa-411d-980c-7f81e0f7dd10');\n",
              "          const dataTable =\n",
              "            await google.colab.kernel.invokeFunction('convertToInteractive',\n",
              "                                                     [key], {});\n",
              "          if (!dataTable) return;\n",
              "\n",
              "          const docLinkHtml = 'Like what you see? Visit the ' +\n",
              "            '<a target=\"_blank\" href=https://colab.research.google.com/notebooks/data_table.ipynb>data table notebook</a>'\n",
              "            + ' to learn more about interactive tables.';\n",
              "          element.innerHTML = '';\n",
              "          dataTable['output_type'] = 'display_data';\n",
              "          await google.colab.output.renderOutput(dataTable, element);\n",
              "          const docLink = document.createElement('div');\n",
              "          docLink.innerHTML = docLinkHtml;\n",
              "          element.appendChild(docLink);\n",
              "        }\n",
              "      </script>\n",
              "    </div>\n",
              "  </div>\n",
              "  "
            ]
          },
          "metadata": {},
          "execution_count": 68
        }
      ]
    },
    {
      "cell_type": "code",
      "source": [
        "predictions_df.to_csv('covid_deaths_dataset_T1.csv')"
      ],
      "metadata": {
        "id": "pb3qyDe_6hv6"
      },
      "execution_count": null,
      "outputs": []
    }
  ],
  "metadata": {
    "kernelspec": {
      "display_name": "Python 3",
      "language": "python",
      "name": "python3"
    },
    "language_info": {
      "name": "python",
      "version": "3.8.12 (default, Oct 12 2021, 03:01:40) [MSC v.1916 64 bit (AMD64)]"
    },
    "orig_nbformat": 4,
    "vscode": {
      "interpreter": {
        "hash": "f27b976aa897af32c09d5b2017e6eaeae9fce6dda3a991c257df1513f3b41573"
      }
    },
    "colab": {
      "provenance": []
    }
  },
  "nbformat": 4,
  "nbformat_minor": 0
}