{
 "cells": [
  {
   "cell_type": "code",
   "execution_count": 37,
   "metadata": {},
   "outputs": [],
   "source": [
    "import pandas as pd\n",
    "\n",
    "from sktime.performance_metrics.forecasting import MeanAbsoluteScaledError"
   ]
  },
  {
   "cell_type": "code",
   "execution_count": 26,
   "metadata": {},
   "outputs": [],
   "source": [
    "predictions = pd.read_csv('results/predictions/covid_deaths_dataset_T1_10.csv', index_col=0)\n",
    "data = pd.read_csv('data/clean/covid_deaths_dataset.csv', index_col=0)"
   ]
  },
  {
   "cell_type": "code",
   "execution_count": 27,
   "metadata": {},
   "outputs": [],
   "source": [
    "X = pd.DataFrame(columns=predictions.index)\n",
    "\n",
    "for date in predictions.columns:\n",
    "    X.loc[date] = predictions[date].values\n",
    "\n",
    "X_train = X[:5].values\n",
    "X_test = X[5:].values"
   ]
  },
  {
   "cell_type": "code",
   "execution_count": 28,
   "metadata": {},
   "outputs": [],
   "source": [
    "y_train = data['T1'][-10:-5]\n",
    "y_test = data['T1'][-5:]"
   ]
  },
  {
   "cell_type": "code",
   "execution_count": 53,
   "metadata": {},
   "outputs": [],
   "source": [
    "import numpy as np\n",
    "from sklearn.linear_model import ElasticNet"
   ]
  },
  {
   "cell_type": "code",
   "execution_count": 31,
   "metadata": {},
   "outputs": [],
   "source": [
    "reg = LinearRegression().fit(X_train, y_train)"
   ]
  },
  {
   "cell_type": "code",
   "execution_count": 44,
   "metadata": {},
   "outputs": [],
   "source": [
    "regr = ElasticNet(random_state=0).fit(X_train, y_train)"
   ]
  },
  {
   "cell_type": "code",
   "execution_count": 46,
   "metadata": {},
   "outputs": [],
   "source": [
    "y_pred = regr.predict(X_test)"
   ]
  },
  {
   "cell_type": "code",
   "execution_count": 34,
   "metadata": {},
   "outputs": [],
   "source": [
    "y_pred = reg.predict(X_test)"
   ]
  },
  {
   "cell_type": "code",
   "execution_count": 47,
   "metadata": {},
   "outputs": [
    {
     "data": {
      "text/plain": [
       "1.3967021412432357"
      ]
     },
     "execution_count": 47,
     "metadata": {},
     "output_type": "execute_result"
    }
   ],
   "source": [
    "mase = MeanAbsoluteScaledError()\n",
    "mase(np.array(y_test), y_pred, y_train=data['T1'][:-5].values)"
   ]
  },
  {
   "cell_type": "code",
   "execution_count": 59,
   "metadata": {},
   "outputs": [],
   "source": [
    "predictions_5 = pd.read_csv('results/predictions/covid_deaths_dataset_T1_5.csv', index_col=0)"
   ]
  },
  {
   "cell_type": "code",
   "execution_count": 61,
   "metadata": {},
   "outputs": [
    {
     "data": {
      "text/html": [
       "<div>\n",
       "<style scoped>\n",
       "    .dataframe tbody tr th:only-of-type {\n",
       "        vertical-align: middle;\n",
       "    }\n",
       "\n",
       "    .dataframe tbody tr th {\n",
       "        vertical-align: top;\n",
       "    }\n",
       "\n",
       "    .dataframe thead th {\n",
       "        text-align: right;\n",
       "    }\n",
       "</style>\n",
       "<table border=\"1\" class=\"dataframe\">\n",
       "  <thead>\n",
       "    <tr style=\"text-align: right;\">\n",
       "      <th></th>\n",
       "      <th>2020-08-16</th>\n",
       "      <th>2020-08-17</th>\n",
       "      <th>2020-08-18</th>\n",
       "      <th>2020-08-19</th>\n",
       "      <th>2020-08-20</th>\n",
       "    </tr>\n",
       "  </thead>\n",
       "  <tbody>\n",
       "    <tr>\n",
       "      <th>dummy</th>\n",
       "      <td>1370.000000</td>\n",
       "      <td>1370.000000</td>\n",
       "      <td>1370.000000</td>\n",
       "      <td>1370.000000</td>\n",
       "      <td>1370.000000</td>\n",
       "    </tr>\n",
       "    <tr>\n",
       "      <th>autoregression</th>\n",
       "      <td>1375.007728</td>\n",
       "      <td>1381.086613</td>\n",
       "      <td>1385.975523</td>\n",
       "      <td>1394.794212</td>\n",
       "      <td>1402.769550</td>\n",
       "    </tr>\n",
       "    <tr>\n",
       "      <th>moving average</th>\n",
       "      <td>1342.800000</td>\n",
       "      <td>1349.600000</td>\n",
       "      <td>1355.900000</td>\n",
       "      <td>1362.200000</td>\n",
       "      <td>1367.900000</td>\n",
       "    </tr>\n",
       "    <tr>\n",
       "      <th>ARMA</th>\n",
       "      <td>1375.615483</td>\n",
       "      <td>1380.982707</td>\n",
       "      <td>1386.066401</td>\n",
       "      <td>1390.904488</td>\n",
       "      <td>1395.461852</td>\n",
       "    </tr>\n",
       "    <tr>\n",
       "      <th>TBATS</th>\n",
       "      <td>1377.138883</td>\n",
       "      <td>1384.258050</td>\n",
       "      <td>1391.377217</td>\n",
       "      <td>1398.496385</td>\n",
       "      <td>1405.615552</td>\n",
       "    </tr>\n",
       "    <tr>\n",
       "      <th>ensemble</th>\n",
       "      <td>1376.372468</td>\n",
       "      <td>1382.008303</td>\n",
       "      <td>1387.632246</td>\n",
       "      <td>1393.050785</td>\n",
       "      <td>1398.525070</td>\n",
       "    </tr>\n",
       "  </tbody>\n",
       "</table>\n",
       "</div>"
      ],
      "text/plain": [
       "                 2020-08-16   2020-08-17   2020-08-18   2020-08-19  \\\n",
       "dummy           1370.000000  1370.000000  1370.000000  1370.000000   \n",
       "autoregression  1375.007728  1381.086613  1385.975523  1394.794212   \n",
       "moving average  1342.800000  1349.600000  1355.900000  1362.200000   \n",
       "ARMA            1375.615483  1380.982707  1386.066401  1390.904488   \n",
       "TBATS           1377.138883  1384.258050  1391.377217  1398.496385   \n",
       "ensemble        1376.372468  1382.008303  1387.632246  1393.050785   \n",
       "\n",
       "                 2020-08-20  \n",
       "dummy           1370.000000  \n",
       "autoregression  1402.769550  \n",
       "moving average  1367.900000  \n",
       "ARMA            1395.461852  \n",
       "TBATS           1405.615552  \n",
       "ensemble        1398.525070  "
      ]
     },
     "execution_count": 61,
     "metadata": {},
     "output_type": "execute_result"
    }
   ],
   "source": [
    "predictions_5.loc['ensemble'] = y_pred\n",
    "predictions_5"
   ]
  }
 ],
 "metadata": {
  "kernelspec": {
   "display_name": "Python 3",
   "language": "python",
   "name": "python3"
  },
  "language_info": {
   "codemirror_mode": {
    "name": "ipython",
    "version": 3
   },
   "file_extension": ".py",
   "mimetype": "text/x-python",
   "name": "python",
   "nbconvert_exporter": "python",
   "pygments_lexer": "ipython3",
   "version": "3.8.12"
  },
  "orig_nbformat": 4,
  "vscode": {
   "interpreter": {
    "hash": "f27b976aa897af32c09d5b2017e6eaeae9fce6dda3a991c257df1513f3b41573"
   }
  }
 },
 "nbformat": 4,
 "nbformat_minor": 2
}
