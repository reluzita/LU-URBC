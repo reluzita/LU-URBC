{
 "cells": [
  {
   "cell_type": "code",
   "execution_count": 1,
   "metadata": {},
   "outputs": [],
   "source": [
    "import pandas as pd\n",
    "import datetime"
   ]
  },
  {
   "cell_type": "code",
   "execution_count": 2,
   "metadata": {},
   "outputs": [],
   "source": [
    "data = {}\n",
    "with open('data/covid_deaths_dataset.tsf', 'r', encoding='utf-8') as f:\n",
    "    series = f.readlines()[15:]\n",
    "    date = series[0].split(\":\")[1]\n",
    "    for ts in series:\n",
    "        seq = ts.split(\":\")\n",
    "        data[seq[0]] = [int(x) for x in seq[2].strip().split(',')]\n",
    "\n",
    "data['date'] = [datetime.datetime.strptime(date, '%Y-%m-%d %H-%M-%S') + datetime.timedelta(days=i) \n",
    "    for i in range(len(data['T1']))]\n",
    "\n",
    "data = pd.DataFrame(data).set_index('date')"
   ]
  },
  {
   "cell_type": "code",
   "execution_count": 4,
   "metadata": {},
   "outputs": [],
   "source": [
    "data.to_csv('data/covid_deaths_clean.csv')"
   ]
  }
 ],
 "metadata": {
  "kernelspec": {
   "display_name": "Python 3",
   "language": "python",
   "name": "python3"
  },
  "language_info": {
   "codemirror_mode": {
    "name": "ipython",
    "version": 3
   },
   "file_extension": ".py",
   "mimetype": "text/x-python",
   "name": "python",
   "nbconvert_exporter": "python",
   "pygments_lexer": "ipython3",
   "version": "3.8.12 (default, Oct 12 2021, 03:01:40) [MSC v.1916 64 bit (AMD64)]"
  },
  "orig_nbformat": 4,
  "vscode": {
   "interpreter": {
    "hash": "f27b976aa897af32c09d5b2017e6eaeae9fce6dda3a991c257df1513f3b41573"
   }
  }
 },
 "nbformat": 4,
 "nbformat_minor": 2
}
