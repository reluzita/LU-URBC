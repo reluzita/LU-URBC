{
 "cells": [
  {
   "cell_type": "code",
   "execution_count": null,
   "metadata": {},
   "outputs": [],
   "source": [
    "!pip install autoPyTorch[forecasting]"
   ]
  },
  {
   "cell_type": "code",
   "execution_count": null,
   "metadata": {},
   "outputs": [],
   "source": [
    "from autoPyTorch.api.time_series_forecasting import TimeSeriesForecastingTask\n",
    "import pandas as pd"
   ]
  },
  {
   "cell_type": "code",
   "execution_count": null,
   "metadata": {},
   "outputs": [],
   "source": [
    "data = pd.read_csv('covid_deaths_clean.csv').set_index('date')\n",
    "\n",
    "targets = data[['T266']]\n",
    "features = data[[col for col in data.columns if col != 'T266']]"
   ]
  },
  {
   "cell_type": "code",
   "execution_count": null,
   "metadata": {},
   "outputs": [],
   "source": [
    "forecasting_horizon = 5\n",
    "\n",
    "y_train = [targets[: -forecasting_horizon]]\n",
    "y_test = [targets[-forecasting_horizon:]]\n",
    "\n",
    "X_train = [features[: -forecasting_horizon]]\n",
    "known_future_features = list(features.columns)\n",
    "X_test = [features[-forecasting_horizon:]]"
   ]
  },
  {
   "cell_type": "code",
   "execution_count": null,
   "metadata": {},
   "outputs": [],
   "source": [
    "api = TimeSeriesForecastingTask(seed=0, n_jobs=5, \n",
    "    #output_directory='model', delete_output_folder_after_terminate=False, \n",
    "    ensemble_size=10, ensemble_nbest=10)\n",
    "\n",
    "api.search(\n",
    "    X_train=X_train,\n",
    "    y_train=y_train,\n",
    "    X_test=X_test, \n",
    "    optimize_metric='mean_MAPE_forecasting',\n",
    "    n_prediction_steps=forecasting_horizon,\n",
    "    #memory_limit=16 * 1024,  # Currently, forecasting models use much more memories\n",
    "    func_eval_time_limit_secs=500,\n",
    "    total_walltime_limit=600,\n",
    "    #min_num_test_instances=1000,  # proxy validation sets. This only works for the tasks with more than 1000 series\n",
    "    known_future_features=known_future_features,\n",
    ")"
   ]
  },
  {
   "cell_type": "code",
   "execution_count": null,
   "metadata": {},
   "outputs": [],
   "source": [
    "test_sets = api.dataset.generate_test_seqs()\n",
    "y_pred = api.predict(test_sets)\n",
    "print(y_test, y_pred)"
   ]
  }
 ],
 "metadata": {
  "kernelspec": {
   "display_name": "Python 3",
   "language": "python",
   "name": "python3"
  },
  "language_info": {
   "name": "python",
   "version": "3.8.12 (default, Oct 12 2021, 03:01:40) [MSC v.1916 64 bit (AMD64)]"
  },
  "orig_nbformat": 4,
  "vscode": {
   "interpreter": {
    "hash": "f27b976aa897af32c09d5b2017e6eaeae9fce6dda3a991c257df1513f3b41573"
   }
  }
 },
 "nbformat": 4,
 "nbformat_minor": 2
}
